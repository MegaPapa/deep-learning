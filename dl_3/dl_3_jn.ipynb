{
 "cells": [
  {
   "cell_type": "code",
   "execution_count": 1,
   "metadata": {},
   "outputs": [],
   "source": [
    "import tensorflow as tf\n",
    "from tensorflow.keras import layers\n",
    "from tensorflow import keras\n",
    "from tensorflow.keras.optimizers import SGD\n",
    "import numpy as np\n",
    "import pathlib\n",
    "import matplotlib.pyplot as plt"
   ]
  },
  {
   "cell_type": "code",
   "execution_count": 2,
   "metadata": {},
   "outputs": [
    {
     "name": "stdout",
     "output_type": "stream",
     "text": [
      "/home/maxim/.keras/datasets/notMNIST_small\n"
     ]
    }
   ],
   "source": [
    "data_root_orig = tf.keras.utils.get_file(origin='https://commondatastorage.googleapis.com/books1000/notMNIST_small.tar.gz',\n",
    "                                         fname='notMNIST_small', untar=True)\n",
    "data_root = pathlib.Path(data_root_orig)\n",
    "print(data_root)"
   ]
  },
  {
   "cell_type": "markdown",
   "metadata": {},
   "source": [
    "Загрузим датасет"
   ]
  },
  {
   "cell_type": "code",
   "execution_count": 3,
   "metadata": {},
   "outputs": [
    {
     "data": {
      "text/plain": [
       "<tensorflow.python.keras.preprocessing.image.ImageDataGenerator at 0x7f209dfe7910>"
      ]
     },
     "execution_count": 3,
     "metadata": {},
     "output_type": "execute_result"
    }
   ],
   "source": [
    "VALIDATION_SET_RATE = 0.05\n",
    "\n",
    "# define image generators for train, validation and test set\n",
    "image_generator = tf.keras.preprocessing.image.ImageDataGenerator(\n",
    "    rescale=1./255,\n",
    "    validation_split=VALIDATION_SET_RATE\n",
    ")\n",
    "image_generator"
   ]
  },
  {
   "cell_type": "markdown",
   "metadata": {},
   "source": [
    "Преобразуем изображения в flow при помощи ImageDataGenerator."
   ]
  },
  {
   "cell_type": "code",
   "execution_count": 4,
   "metadata": {},
   "outputs": [
    {
     "name": "stdout",
     "output_type": "stream",
     "text": [
      "Found 17794 images belonging to 10 classes.\n",
      "Found 930 images belonging to 10 classes.\n"
     ]
    }
   ],
   "source": [
    "BATCH_SIZE = 32\n",
    "IMG_HEIGHT = 28\n",
    "IMG_WIDTH = 28\n",
    "IMG_CHANNELS = 3\n",
    "EPOCHS_COUNT = 10\n",
    "\n",
    "\n",
    "\n",
    "train_data_gen = image_generator.flow_from_directory(directory=str(data_root),\n",
    "                                                     batch_size=BATCH_SIZE,\n",
    "                                                     shuffle=True,\n",
    "                                                     target_size=(IMG_HEIGHT, IMG_WIDTH),\n",
    "                                                     subset='training')\n",
    "STEPS_PER_EPOCH_TRAIN = np.ceil(train_data_gen.samples/BATCH_SIZE)\n",
    "\n",
    "validation_data_gen = image_generator.flow_from_directory(directory=str(data_root),\n",
    "                                                     batch_size=BATCH_SIZE,\n",
    "                                                     shuffle=True,\n",
    "                                                     target_size=(IMG_HEIGHT, IMG_WIDTH),\n",
    "                                                     subset='validation')\n",
    "\n",
    "STEPS_PER_EPOCH_VALIDATION = np.ceil(validation_data_gen.samples/BATCH_SIZE)"
   ]
  },
  {
   "cell_type": "code",
   "execution_count": 5,
   "metadata": {},
   "outputs": [],
   "source": [
    "def load_image(filename, image_size):\n",
    "    w, h = image_size\n",
    "    # load the image\n",
    "    img = load_img(filename, target_size=(w, h))\n",
    "    # convert to array\n",
    "    img = img_to_array(img)\n",
    "    # reshape into a single sample with 3 channels\n",
    "    img = img.reshape(1, w, h, 3)\n",
    "    # center pixel data\n",
    "    img = img.astype('float32')\n",
    "    return img"
   ]
  },
  {
   "cell_type": "markdown",
   "metadata": {},
   "source": [
    "Определим свёрточную нейронную сеть с 2мя свёрточными слоями и 1 полносвязным слоем."
   ]
  },
  {
   "cell_type": "code",
   "execution_count": 6,
   "metadata": {},
   "outputs": [
    {
     "name": "stdout",
     "output_type": "stream",
     "text": [
      "Model: \"sequential\"\n",
      "_________________________________________________________________\n",
      "Layer (type)                 Output Shape              Param #   \n",
      "=================================================================\n",
      "conv_1 (Conv2D)              (None, 28, 28, 16)        448       \n",
      "_________________________________________________________________\n",
      "conv_2 (Conv2D)              (None, 28, 28, 40)        5800      \n",
      "_________________________________________________________________\n",
      "flatten (Flatten)            (None, 31360)             0         \n",
      "_________________________________________________________________\n",
      "fc_1 (Dense)                 (None, 128)               4014208   \n",
      "_________________________________________________________________\n",
      "output (Dense)               (None, 10)                1290      \n",
      "=================================================================\n",
      "Total params: 4,021,746\n",
      "Trainable params: 4,021,746\n",
      "Non-trainable params: 0\n",
      "_________________________________________________________________\n"
     ]
    }
   ],
   "source": [
    "# Define 1 input 2 conv and 1 fc layer with softmax output\n",
    "input_layer = layers.Input(\n",
    "    shape=(IMG_HEIGHT, IMG_WIDTH, IMG_CHANNELS),\n",
    "    name='input'\n",
    ")\n",
    "\n",
    "conv_1 = layers.Conv2D(\n",
    "    filters=16,\n",
    "    kernel_size=(3, 3),\n",
    "    strides=(1,1),\n",
    "    padding='same',\n",
    "    activation='relu',\n",
    "    name='conv_1'\n",
    ")\n",
    "\n",
    "conv_2 = layers.Conv2D(\n",
    "    filters=40,\n",
    "    kernel_size=(3, 3),\n",
    "    strides=(1,1),\n",
    "    padding='same',\n",
    "    activation='relu',\n",
    "    name='conv_2'\n",
    ")\n",
    "\n",
    "fc_1 = layers.Dense(128, activation='relu', name='fc_1')\n",
    "out = layers.Dense(10, activation='softmax', name='output')\n",
    "\n",
    "two_conv_model = keras.Sequential([\n",
    "    input_layer,\n",
    "    conv_1,\n",
    "    conv_2,\n",
    "    layers.Flatten(),\n",
    "    fc_1,\n",
    "    out\n",
    "])\n",
    "two_conv_model.summary()\n",
    "\n",
    "# compile the model\n",
    "two_conv_model.compile(\n",
    "    optimizer='sgd',\n",
    "    loss='categorical_crossentropy',\n",
    "    metrics=['accuracy']\n",
    ")"
   ]
  },
  {
   "cell_type": "code",
   "execution_count": 7,
   "metadata": {},
   "outputs": [
    {
     "name": "stdout",
     "output_type": "stream",
     "text": [
      "WARNING:tensorflow:From <ipython-input-7-34ef60bbf483>:6: Model.fit_generator (from tensorflow.python.keras.engine.training) is deprecated and will be removed in a future version.\n",
      "Instructions for updating:\n",
      "Please use Model.fit, which supports generators.\n",
      "WARNING:tensorflow:sample_weight modes were coerced from\n",
      "  ...\n",
      "    to  \n",
      "  ['...']\n",
      "WARNING:tensorflow:sample_weight modes were coerced from\n",
      "  ...\n",
      "    to  \n",
      "  ['...']\n",
      "Train for 557.0 steps, validate for 30.0 steps\n",
      "Epoch 1/10\n",
      "557/557 [==============================] - 16s 29ms/step - loss: 0.5904 - accuracy: 0.8374 - val_loss: 0.4806 - val_accuracy: 0.8882\n",
      "Epoch 2/10\n",
      "557/557 [==============================] - 23s 42ms/step - loss: 0.3598 - accuracy: 0.8979 - val_loss: 0.4224 - val_accuracy: 0.9022\n",
      "Epoch 3/10\n",
      "557/557 [==============================] - 21s 39ms/step - loss: 0.3059 - accuracy: 0.9131 - val_loss: 0.4061 - val_accuracy: 0.8946\n",
      "Epoch 4/10\n",
      "557/557 [==============================] - 22s 39ms/step - loss: 0.2702 - accuracy: 0.9205 - val_loss: 0.3817 - val_accuracy: 0.9011\n",
      "Epoch 5/10\n",
      "557/557 [==============================] - 22s 39ms/step - loss: 0.2405 - accuracy: 0.9292 - val_loss: 0.3544 - val_accuracy: 0.9097\n",
      "Epoch 6/10\n",
      "557/557 [==============================] - 22s 39ms/step - loss: 0.2089 - accuracy: 0.9385 - val_loss: 0.3350 - val_accuracy: 0.9183\n",
      "Epoch 7/10\n",
      "557/557 [==============================] - 22s 39ms/step - loss: 0.1807 - accuracy: 0.9467 - val_loss: 0.3147 - val_accuracy: 0.9258\n",
      "Epoch 8/10\n",
      "557/557 [==============================] - 22s 39ms/step - loss: 0.1550 - accuracy: 0.9540 - val_loss: 0.2972 - val_accuracy: 0.9280\n",
      "Epoch 9/10\n",
      "557/557 [==============================] - 22s 39ms/step - loss: 0.1318 - accuracy: 0.9614 - val_loss: 0.2984 - val_accuracy: 0.9323\n",
      "Epoch 10/10\n",
      "557/557 [==============================] - 21s 39ms/step - loss: 0.1098 - accuracy: 0.9679 - val_loss: 0.2842 - val_accuracy: 0.9312\n"
     ]
    }
   ],
   "source": [
    "history = two_conv_model.fit_generator(\n",
    "    train_data_gen,\n",
    "    validation_data=validation_data_gen,\n",
    "    steps_per_epoch=STEPS_PER_EPOCH_TRAIN,\n",
    "    validation_steps=STEPS_PER_EPOCH_VALIDATION,\n",
    "    epochs=EPOCHS_COUNT\n",
    ")"
   ]
  },
  {
   "cell_type": "code",
   "execution_count": 8,
   "metadata": {},
   "outputs": [
    {
     "data": {
      "image/png": "[encoded data removed]",
      "text/plain": [
       "<Figure size 432x288 with 1 Axes>"
      ]
     },
     "metadata": {
      "needs_background": "light"
     },
     "output_type": "display_data"
    },
    {
     "data": {
      "image/png": "[encoded data removed]",
      "text/plain": [
       "<Figure size 432x288 with 1 Axes>"
      ]
     },
     "metadata": {
      "needs_background": "light"
     },
     "output_type": "display_data"
    },
    {
     "name": "stdout",
     "output_type": "stream",
     "text": [
      "In model with 2 Conv layers max accuracy = 0.9679105\n"
     ]
    }
   ],
   "source": [
    "# Plot training & validation accuracy values\n",
    "plt.plot(history.history['accuracy'])\n",
    "plt.plot(history.history['val_accuracy'])\n",
    "plt.title('Model accuracy')\n",
    "plt.ylabel('Accuracy')\n",
    "plt.xlabel('Epoch')\n",
    "plt.legend(['Train', 'Validation'], loc='upper left')\n",
    "plt.show()\n",
    "\n",
    "# Plot training & validation loss values\n",
    "plt.plot(history.history['loss'])\n",
    "plt.plot(history.history['val_loss'])\n",
    "plt.title('Model loss')\n",
    "plt.ylabel('Loss')\n",
    "plt.xlabel('Epoch')\n",
    "plt.legend(['Train', 'Validation'], loc='upper left')\n",
    "plt.show()\n",
    "\n",
    "print(\"In model with 2 Conv layers max accuracy = \" + str(max(history.history['accuracy'])))"
   ]
  },
  {
   "cell_type": "markdown",
   "metadata": {},
   "source": [
    "Как видно из графиков и процесса обучения - модель начала со временем переобучаться, однако в то же время стабильно показывает 90+ процентную точность.\n",
    "\n",
    "Далее составим модель состояющую почти из тех же слоёв, что и раньше, но заменим один из свёрточных слоёв, слоем пулинга (а конкретно, MaxPooling'a)."
   ]
  },
  {
   "cell_type": "code",
   "execution_count": 9,
   "metadata": {},
   "outputs": [
    {
     "name": "stdout",
     "output_type": "stream",
     "text": [
      "Model: \"sequential_1\"\n",
      "_________________________________________________________________\n",
      "Layer (type)                 Output Shape              Param #   \n",
      "=================================================================\n",
      "conv_1 (Conv2D)              (None, 28, 28, 16)        448       \n",
      "_________________________________________________________________\n",
      "pool_1 (MaxPooling2D)        (None, 14, 14, 16)        0         \n",
      "_________________________________________________________________\n",
      "flatten_1 (Flatten)          (None, 3136)              0         \n",
      "_________________________________________________________________\n",
      "fc_1 (Dense)                 (None, 128)               401536    \n",
      "_________________________________________________________________\n",
      "output (Dense)               (None, 10)                1290      \n",
      "=================================================================\n",
      "Total params: 403,274\n",
      "Trainable params: 403,274\n",
      "Non-trainable params: 0\n",
      "_________________________________________________________________\n"
     ]
    }
   ],
   "source": [
    "POOL_SIZE = 2\n",
    "\n",
    "input_layer = layers.Input(\n",
    "    shape=(IMG_HEIGHT, IMG_WIDTH, IMG_CHANNELS),\n",
    "    name='input'\n",
    ")\n",
    "\n",
    "conv_1 = layers.Conv2D(\n",
    "    filters=16,\n",
    "    kernel_size=(3, 3),\n",
    "    strides=(1,1),\n",
    "    padding='same',\n",
    "    activation='relu',\n",
    "    name='conv_1'\n",
    ")\n",
    "\n",
    "conv_2 = layers.Conv2D(\n",
    "    filters=40,\n",
    "    kernel_size=(3, 3),\n",
    "    strides=(1,1),\n",
    "    padding='same',\n",
    "    activation='relu',\n",
    "    name='conv_2'\n",
    ")\n",
    "\n",
    "fc_1 = layers.Dense(128, activation='relu', name='fc_1')\n",
    "out = layers.Dense(10, activation='softmax', name='output')\n",
    "\n",
    "pool_1 = layers.MaxPooling2D(\n",
    "    pool_size=POOL_SIZE,\n",
    "    name='pool_1'\n",
    ")\n",
    "\n",
    "model_with_pooling = keras.Sequential([\n",
    "    input_layer,\n",
    "    conv_1,\n",
    "    pool_1,\n",
    "    layers.Flatten(),\n",
    "    fc_1,\n",
    "    out\n",
    "])\n",
    "\n",
    "model_with_pooling.summary()\n",
    "model_with_pooling.compile(\n",
    "    optimizer='sgd',\n",
    "    loss='categorical_crossentropy',\n",
    "    metrics=['accuracy']\n",
    ")"
   ]
  },
  {
   "cell_type": "code",
   "execution_count": 10,
   "metadata": {},
   "outputs": [
    {
     "name": "stdout",
     "output_type": "stream",
     "text": [
      "WARNING:tensorflow:sample_weight modes were coerced from\n",
      "  ...\n",
      "    to  \n",
      "  ['...']\n",
      "WARNING:tensorflow:sample_weight modes were coerced from\n",
      "  ...\n",
      "    to  \n",
      "  ['...']\n",
      "Train for 557.0 steps, validate for 30.0 steps\n",
      "Epoch 1/10\n",
      "557/557 [==============================] - 8s 14ms/step - loss: 0.6151 - accuracy: 0.8333 - val_loss: 0.5041 - val_accuracy: 0.8785\n",
      "Epoch 2/10\n",
      "557/557 [==============================] - 7s 13ms/step - loss: 0.3758 - accuracy: 0.8942 - val_loss: 0.4417 - val_accuracy: 0.9000\n",
      "Epoch 3/10\n",
      "557/557 [==============================] - 8s 14ms/step - loss: 0.3350 - accuracy: 0.9042 - val_loss: 0.4216 - val_accuracy: 0.8968\n",
      "Epoch 4/10\n",
      "557/557 [==============================] - 7s 13ms/step - loss: 0.3038 - accuracy: 0.9123 - val_loss: 0.4206 - val_accuracy: 0.9000\n",
      "Epoch 5/10\n",
      "557/557 [==============================] - 7s 13ms/step - loss: 0.2834 - accuracy: 0.9200 - val_loss: 0.3987 - val_accuracy: 0.8957\n",
      "Epoch 6/10\n",
      "557/557 [==============================] - 7s 13ms/step - loss: 0.2640 - accuracy: 0.9233 - val_loss: 0.3849 - val_accuracy: 0.8957\n",
      "Epoch 7/10\n",
      "557/557 [==============================] - 7s 13ms/step - loss: 0.2468 - accuracy: 0.9295 - val_loss: 0.3532 - val_accuracy: 0.9118\n",
      "Epoch 8/10\n",
      "557/557 [==============================] - 7s 13ms/step - loss: 0.2315 - accuracy: 0.9331 - val_loss: 0.3641 - val_accuracy: 0.9108\n",
      "Epoch 9/10\n",
      "557/557 [==============================] - 7s 13ms/step - loss: 0.2193 - accuracy: 0.9350 - val_loss: 0.3525 - val_accuracy: 0.9129\n",
      "Epoch 10/10\n",
      "557/557 [==============================] - 7s 13ms/step - loss: 0.2075 - accuracy: 0.9405 - val_loss: 0.3409 - val_accuracy: 0.9161\n"
     ]
    }
   ],
   "source": [
    "history = model_with_pooling.fit_generator(\n",
    "    train_data_gen,\n",
    "    validation_data=validation_data_gen,\n",
    "    steps_per_epoch=STEPS_PER_EPOCH_TRAIN,\n",
    "    validation_steps=STEPS_PER_EPOCH_VALIDATION,\n",
    "    epochs=EPOCHS_COUNT\n",
    ")"
   ]
  },
  {
   "cell_type": "code",
   "execution_count": 11,
   "metadata": {},
   "outputs": [
    {
     "data": {
      "image/png": "[encoded data removed]",
      "text/plain": [
       "<Figure size 432x288 with 1 Axes>"
      ]
     },
     "metadata": {
      "needs_background": "light"
     },
     "output_type": "display_data"
    },
    {
     "data": {
      "image/png": "[encoded data removed]",
      "text/plain": [
       "<Figure size 432x288 with 1 Axes>"
      ]
     },
     "metadata": {
      "needs_background": "light"
     },
     "output_type": "display_data"
    },
    {
     "name": "stdout",
     "output_type": "stream",
     "text": [
      "In model with 1 Conv layer and 1 Pooling layer max accuracy = 0.94054174\n"
     ]
    }
   ],
   "source": [
    "# Plot training & validation accuracy values\n",
    "plt.plot(history.history['accuracy'])\n",
    "plt.plot(history.history['val_accuracy'])\n",
    "plt.title('Model accuracy')\n",
    "plt.ylabel('Accuracy')\n",
    "plt.xlabel('Epoch')\n",
    "plt.legend(['Train', 'Validation'], loc='upper left')\n",
    "plt.show()\n",
    "\n",
    "# Plot training & validation loss values\n",
    "plt.plot(history.history['loss'])\n",
    "plt.plot(history.history['val_loss'])\n",
    "plt.title('Model loss')\n",
    "plt.ylabel('Loss')\n",
    "plt.xlabel('Epoch')\n",
    "plt.legend(['Train', 'Validation'], loc='upper left')\n",
    "plt.show()\n",
    "\n",
    "print(\"In model with 1 Conv layer and 1 Pooling layer max accuracy = \" + str(max(history.history['accuracy'])))"
   ]
  },
  {
   "cell_type": "markdown",
   "metadata": {},
   "source": [
    "Как видно из графиков и значений - данная модель также хорошо себя показывает, однако с меньшими значениями точности на обучающей выборке. Однако в то же время, как видно из графиков, данная модель медленнее обучается и в то же время - у неё меньшее значение переобучения.\n",
    "\n",
    "Следующим реализуем модель LeNet-5. (состоит из 3х \"слоёв\" и 1 полносвязного слоя, каждый \"слой\" представляет собой связку свёртка-пулинг)."
   ]
  },
  {
   "cell_type": "code",
   "execution_count": 12,
   "metadata": {},
   "outputs": [
    {
     "name": "stdout",
     "output_type": "stream",
     "text": [
      "Model: \"sequential_2\"\n",
      "_________________________________________________________________\n",
      "Layer (type)                 Output Shape              Param #   \n",
      "=================================================================\n",
      "conv_lenet_1 (Conv2D)        (None, 26, 26, 6)         168       \n",
      "_________________________________________________________________\n",
      "pool_lenet_1 (AveragePooling (None, 13, 13, 6)         0         \n",
      "_________________________________________________________________\n",
      "conv_lenet_2 (Conv2D)        (None, 11, 11, 16)        880       \n",
      "_________________________________________________________________\n",
      "pool_lenet_2 (AveragePooling (None, 5, 5, 16)          0         \n",
      "_________________________________________________________________\n",
      "conv_lenet_3 (Conv2D)        (None, 3, 3, 120)         17400     \n",
      "_________________________________________________________________\n",
      "flatten_2 (Flatten)          (None, 1080)              0         \n",
      "_________________________________________________________________\n",
      "fc_1 (Dense)                 (None, 84)                90804     \n",
      "_________________________________________________________________\n",
      "output (Dense)               (None, 10)                850       \n",
      "=================================================================\n",
      "Total params: 110,102\n",
      "Trainable params: 110,102\n",
      "Non-trainable params: 0\n",
      "_________________________________________________________________\n"
     ]
    }
   ],
   "source": [
    "# Lets define classic LeNet-5 architecture\n",
    "\n",
    "conv_lenet_1 = layers.Conv2D(\n",
    "    filters=6,\n",
    "    kernel_size=(3, 3),\n",
    "    strides=(1,1),\n",
    "    padding='valid',\n",
    "    activation='tanh',\n",
    "    name='conv_lenet_1'\n",
    ")\n",
    "\n",
    "conv_lenet_2 = layers.Conv2D(\n",
    "    filters=16,\n",
    "    kernel_size=(3, 3),\n",
    "    strides=(1,1),\n",
    "    padding='valid',\n",
    "    activation='tanh',\n",
    "    name='conv_lenet_2'\n",
    ")\n",
    "\n",
    "conv_lenet_3 = layers.Conv2D(\n",
    "    filters=120,\n",
    "    kernel_size=(3, 3),\n",
    "    strides=(1,1),\n",
    "    padding='valid',\n",
    "    activation='tanh',\n",
    "    name='conv_lenet_3'\n",
    ")\n",
    "\n",
    "pool_lenet_1 = layers.AveragePooling2D(\n",
    "    pool_size=(2, 2),\n",
    "    name='pool_lenet_1'\n",
    ")\n",
    "\n",
    "pool_lenet_2 = layers.AveragePooling2D(\n",
    "    pool_size=(2, 2),\n",
    "    name='pool_lenet_2'\n",
    ")\n",
    "\n",
    "fc_1 = layers.Dense(84, activation='tanh', name='fc_1')\n",
    "out = layers.Dense(10, activation='softmax', name='output')\n",
    "\n",
    "lenet5 = keras.Sequential([\n",
    "    input_layer,\n",
    "    conv_lenet_1,\n",
    "    pool_lenet_1,\n",
    "    conv_lenet_2,\n",
    "    pool_lenet_2,\n",
    "    conv_lenet_3,\n",
    "    layers.Flatten(),\n",
    "    fc_1,\n",
    "    out\n",
    "])\n",
    "lenet5.summary()\n",
    "\n",
    "lenet5.compile(\n",
    "    optimizer='sgd',\n",
    "    loss='categorical_crossentropy',\n",
    "    metrics=['accuracy']\n",
    ")"
   ]
  },
  {
   "cell_type": "code",
   "execution_count": 13,
   "metadata": {},
   "outputs": [
    {
     "name": "stdout",
     "output_type": "stream",
     "text": [
      "WARNING:tensorflow:sample_weight modes were coerced from\n",
      "  ...\n",
      "    to  \n",
      "  ['...']\n",
      "WARNING:tensorflow:sample_weight modes were coerced from\n",
      "  ...\n",
      "    to  \n",
      "  ['...']\n",
      "Train for 557.0 steps, validate for 30.0 steps\n",
      "Epoch 1/10\n",
      "557/557 [==============================] - 7s 13ms/step - loss: 1.2061 - accuracy: 0.6468 - val_loss: 0.9815 - val_accuracy: 0.7398\n",
      "Epoch 2/10\n",
      "557/557 [==============================] - 7s 13ms/step - loss: 0.7495 - accuracy: 0.8047 - val_loss: 0.8549 - val_accuracy: 0.7989\n",
      "Epoch 3/10\n",
      "557/557 [==============================] - 7s 13ms/step - loss: 0.6588 - accuracy: 0.8280 - val_loss: 0.7879 - val_accuracy: 0.8140\n",
      "Epoch 4/10\n",
      "557/557 [==============================] - 7s 13ms/step - loss: 0.6036 - accuracy: 0.8410 - val_loss: 0.7272 - val_accuracy: 0.8355\n",
      "Epoch 5/10\n",
      "557/557 [==============================] - 7s 13ms/step - loss: 0.5631 - accuracy: 0.8502 - val_loss: 0.6987 - val_accuracy: 0.8258\n",
      "Epoch 6/10\n",
      "557/557 [==============================] - 7s 13ms/step - loss: 0.5315 - accuracy: 0.8553 - val_loss: 0.6483 - val_accuracy: 0.8462\n",
      "Epoch 7/10\n",
      "557/557 [==============================] - 7s 13ms/step - loss: 0.5031 - accuracy: 0.8619 - val_loss: 0.6201 - val_accuracy: 0.8441\n",
      "Epoch 8/10\n",
      "557/557 [==============================] - 7s 13ms/step - loss: 0.4776 - accuracy: 0.8683 - val_loss: 0.5953 - val_accuracy: 0.8538\n",
      "Epoch 9/10\n",
      "557/557 [==============================] - 7s 13ms/step - loss: 0.4558 - accuracy: 0.8724 - val_loss: 0.5667 - val_accuracy: 0.8677\n",
      "Epoch 10/10\n",
      "557/557 [==============================] - 7s 13ms/step - loss: 0.4357 - accuracy: 0.8770 - val_loss: 0.5401 - val_accuracy: 0.8634\n"
     ]
    }
   ],
   "source": [
    "history = lenet5.fit_generator(\n",
    "    train_data_gen,\n",
    "    validation_data=validation_data_gen,\n",
    "    steps_per_epoch=STEPS_PER_EPOCH_TRAIN,\n",
    "    validation_steps=STEPS_PER_EPOCH_VALIDATION,\n",
    "    epochs=EPOCHS_COUNT\n",
    ")"
   ]
  },
  {
   "cell_type": "code",
   "execution_count": 14,
   "metadata": {},
   "outputs": [
    {
     "data": {
      "image/png": "[encoded data removed]",
      "text/plain": [
       "<Figure size 432x288 with 1 Axes>"
      ]
     },
     "metadata": {
      "needs_background": "light"
     },
     "output_type": "display_data"
    },
    {
     "data": {
      "image/png": "[encoded data removed]",
      "text/plain": [
       "<Figure size 432x288 with 1 Axes>"
      ]
     },
     "metadata": {
      "needs_background": "light"
     },
     "output_type": "display_data"
    },
    {
     "name": "stdout",
     "output_type": "stream",
     "text": [
      "Lenet-5 has max accuracy = 0.8770372\n"
     ]
    }
   ],
   "source": [
    "# Plot training & validation accuracy values\n",
    "plt.plot(history.history['accuracy'])\n",
    "plt.plot(history.history['val_accuracy'])\n",
    "plt.title('Model accuracy')\n",
    "plt.ylabel('Accuracy')\n",
    "plt.xlabel('Epoch')\n",
    "plt.legend(['Train', 'Validation'], loc='upper left')\n",
    "plt.show()\n",
    "\n",
    "# Plot training & validation loss values\n",
    "plt.plot(history.history['loss'])\n",
    "plt.plot(history.history['val_loss'])\n",
    "plt.title('Model loss')\n",
    "plt.ylabel('Loss')\n",
    "plt.xlabel('Epoch')\n",
    "plt.legend(['Train', 'Validation'], loc='upper left')\n",
    "plt.show()\n",
    "\n",
    "print(\"Lenet-5 has max accuracy = \" + str(max(history.history['accuracy'])))"
   ]
  },
  {
   "cell_type": "markdown",
   "metadata": {},
   "source": [
    "Как видно из значений выше - данная модель обучается медленнее остальных, однако, стоит отметить, что она имеет лучший результат на валидационной выборке, т.е. модель имеет крайне низкую степень переобучения.\n",
    "\n",
    "Сравнивая все ранее описанные модели, можно отметить, что все они имеют достаточно высокую точность 90%+. Однако так же, они имеют и минус - со временем они начинают переобучаться, особо не помогает даже Dropout. Наиболее хороший результат в этой сфере показывает модель LeNet-5, которую можно отметить за её хорошее удержание переобучения модели."
   ]
  }
 ],
 "metadata": {
  "kernelspec": {
   "display_name": "Python 3",
   "language": "python",
   "name": "python3"
  },
  "language_info": {
   "codemirror_mode": {
    "name": "ipython",
    "version": 3
   },
   "file_extension": ".py",
   "mimetype": "text/x-python",
   "name": "python",
   "nbconvert_exporter": "python",
   "pygments_lexer": "ipython3",
   "version": "3.7.6"
  }
 },
 "nbformat": 4,
 "nbformat_minor": 4
}

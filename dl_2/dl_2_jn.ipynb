{
 "cells": [
  {
   "cell_type": "code",
   "execution_count": 83,
   "metadata": {},
   "outputs": [
    {
     "name": "stdout",
     "output_type": "stream",
     "text": [
      "/home/maxim/.keras/datasets/notMNIST_small\n"
     ]
    }
   ],
   "source": [
    "from __future__ import absolute_import, division, print_function, unicode_literals\n",
    "\n",
    "import tensorflow as tf\n",
    "import pathlib\n",
    "from tensorflow.keras import layers\n",
    "from tensorflow import keras\n",
    "from tensorflow.keras.optimizers import SGD\n",
    "import numpy as np\n",
    "import matplotlib.pyplot as plt\n",
    "from keras_preprocessing.image import load_img, img_to_array\n",
    "\n",
    "data_root_orig = tf.keras.utils.get_file(origin='https://commondatastorage.googleapis.com/books1000/notMNIST_small.tar.gz',\n",
    "                                         fname='notMNIST_small', untar=True)\n",
    "data_root = pathlib.Path(data_root_orig)\n",
    "print(data_root)"
   ]
  },
  {
   "cell_type": "code",
   "execution_count": 2,
   "metadata": {},
   "outputs": [
    {
     "name": "stdout",
     "output_type": "stream",
     "text": [
      "/home/maxim/.keras/datasets/notMNIST_small/F\n",
      "/home/maxim/.keras/datasets/notMNIST_small/B\n",
      "/home/maxim/.keras/datasets/notMNIST_small/H\n",
      "/home/maxim/.keras/datasets/notMNIST_small/G\n",
      "/home/maxim/.keras/datasets/notMNIST_small/D\n",
      "/home/maxim/.keras/datasets/notMNIST_small/I\n",
      "/home/maxim/.keras/datasets/notMNIST_small/C\n",
      "/home/maxim/.keras/datasets/notMNIST_small/A\n",
      "/home/maxim/.keras/datasets/notMNIST_small/J\n",
      "/home/maxim/.keras/datasets/notMNIST_small/E\n"
     ]
    }
   ],
   "source": [
    "for letter_dir in data_root.iterdir():\n",
    "  print(letter_dir)"
   ]
  },
  {
   "cell_type": "code",
   "execution_count": 3,
   "metadata": {},
   "outputs": [
    {
     "data": {
      "text/plain": [
       "18724"
      ]
     },
     "execution_count": 3,
     "metadata": {},
     "output_type": "execute_result"
    }
   ],
   "source": [
    "import random\n",
    "all_image_paths = list(data_root.glob('*/*'))\n",
    "all_image_paths = [str(path) for path in all_image_paths]\n",
    "random.shuffle(all_image_paths)\n",
    "\n",
    "image_count = len(all_image_paths)\n",
    "image_count"
   ]
  },
  {
   "cell_type": "code",
   "execution_count": 4,
   "metadata": {},
   "outputs": [
    {
     "data": {
      "image/png": "[encoded data removed]",
      "text/plain": [
       "<IPython.core.display.Image object>"
      ]
     },
     "metadata": {},
     "output_type": "display_data"
    },
    {
     "name": "stdout",
     "output_type": "stream",
     "text": [
      "/home/maxim/.keras/datasets/notMNIST_small/D/Q2xlb3BhdHJhLm90Zg==.png\n"
     ]
    },
    {
     "data": {
      "image/png": "[encoded data removed]",
      "text/plain": [
       "<IPython.core.display.Image object>"
      ]
     },
     "metadata": {},
     "output_type": "display_data"
    },
    {
     "name": "stdout",
     "output_type": "stream",
     "text": [
      "/home/maxim/.keras/datasets/notMNIST_small/B/Q2xlcmZhY2UtRGVtaUJvbGQub3Rm.png\n"
     ]
    },
    {
     "data": {
      "image/png": "[encoded data removed]",
      "text/plain": [
       "<IPython.core.display.Image object>"
      ]
     },
     "metadata": {},
     "output_type": "display_data"
    },
    {
     "name": "stdout",
     "output_type": "stream",
     "text": [
      "/home/maxim/.keras/datasets/notMNIST_small/F/QXVndXN0YVN0ZC1SZWd1bGFyLm90Zg==.png\n"
     ]
    },
    {
     "data": {
      "image/png": "[encoded data removed]",
      "text/plain": [
       "<IPython.core.display.Image object>"
      ]
     },
     "metadata": {},
     "output_type": "display_data"
    },
    {
     "name": "stdout",
     "output_type": "stream",
     "text": [
      "/home/maxim/.keras/datasets/notMNIST_small/I/RlogQkFTSUMgMTIudHRm.png\n"
     ]
    },
    {
     "data": {
      "image/png": "[encoded data removed]",
      "text/plain": [
       "<IPython.core.display.Image object>"
      ]
     },
     "metadata": {},
     "output_type": "display_data"
    },
    {
     "name": "stdout",
     "output_type": "stream",
     "text": [
      "/home/maxim/.keras/datasets/notMNIST_small/H/QUdCdWNoUm91bmRlZEJRLUJvbGRPdXRsaW5lLm90Zg==.png\n"
     ]
    }
   ],
   "source": [
    "all_image_paths[:10]\n",
    "\n",
    "import IPython.display as display\n",
    "\n",
    "for n in range(5):\n",
    "  image_path = random.choice(all_image_paths)\n",
    "  display.display(display.Image(image_path))\n",
    "  print(image_path)"
   ]
  },
  {
   "cell_type": "code",
   "execution_count": 5,
   "metadata": {},
   "outputs": [
    {
     "data": {
      "text/plain": [
       "['A', 'B', 'C', 'D', 'E', 'F', 'G', 'H', 'I', 'J']"
      ]
     },
     "execution_count": 5,
     "metadata": {},
     "output_type": "execute_result"
    }
   ],
   "source": [
    "label_names = sorted(item.name for item in data_root.glob('*/') if item.is_dir())\n",
    "label_names"
   ]
  },
  {
   "cell_type": "code",
   "execution_count": 6,
   "metadata": {},
   "outputs": [
    {
     "data": {
      "text/plain": [
       "{'A': 0,\n",
       " 'B': 1,\n",
       " 'C': 2,\n",
       " 'D': 3,\n",
       " 'E': 4,\n",
       " 'F': 5,\n",
       " 'G': 6,\n",
       " 'H': 7,\n",
       " 'I': 8,\n",
       " 'J': 9}"
      ]
     },
     "execution_count": 6,
     "metadata": {},
     "output_type": "execute_result"
    }
   ],
   "source": [
    "label_to_index = dict((name, index) for index, name in enumerate(label_names))\n",
    "label_to_index"
   ]
  },
  {
   "cell_type": "code",
   "execution_count": 7,
   "metadata": {},
   "outputs": [
    {
     "name": "stdout",
     "output_type": "stream",
     "text": [
      "First 10 labels indices:  [4, 8, 7, 9, 3, 6, 2, 9, 5, 0]\n",
      "First 10 paths:  ['/home/maxim/.keras/datasets/notMNIST_small/E/QmVhY2ggVGhpbiBCb2xkLnR0Zg==.png', '/home/maxim/.keras/datasets/notMNIST_small/I/Qm9va21hblN0ZC1Cb2xkSXRhbGljLm90Zg==.png', '/home/maxim/.keras/datasets/notMNIST_small/H/SVRDIEdvdWR5IFNhbnMgQm9sZC5wZmI=.png', '/home/maxim/.keras/datasets/notMNIST_small/J/QXJpYWxNVFN0ZC5vdGY=.png', '/home/maxim/.keras/datasets/notMNIST_small/D/QmVsdWNpYW4tRGVtaUJvbGQub3Rm.png', '/home/maxim/.keras/datasets/notMNIST_small/G/Rm9ybWFsNDM2IEJULnR0Zg==.png', '/home/maxim/.keras/datasets/notMNIST_small/C/QXVyZWFVbHRyYS1JdGFsaWMub3Rm.png', '/home/maxim/.keras/datasets/notMNIST_small/J/Qm9va21hbiBCVCBJdGFsaWMudHRm.png', '/home/maxim/.keras/datasets/notMNIST_small/F/SVRDIFRpZXBvbG8gQm9vay5wZmI=.png', '/home/maxim/.keras/datasets/notMNIST_small/A/R2VzdGFsdC1IVEYtTGluZWFyLU1lZGl1bS5vdGY=.png']\n"
     ]
    }
   ],
   "source": [
    "all_image_labels = [label_to_index[pathlib.Path(path).parent.name]\n",
    "                    for path in all_image_paths]\n",
    "\n",
    "print(\"First 10 labels indices: \", all_image_labels[:10])\n",
    "print(\"First 10 paths: \", all_image_paths[:10])"
   ]
  },
  {
   "cell_type": "code",
   "execution_count": 104,
   "metadata": {},
   "outputs": [
    {
     "name": "stdout",
     "output_type": "stream",
     "text": [
      "Found 17794 images belonging to 10 classes.\n",
      "Found 930 images belonging to 10 classes.\n"
     ]
    }
   ],
   "source": [
    "VALIDATION_SET_RATE = 0.05\n",
    "\n",
    "# define image generators for train, validation and test set\n",
    "image_generator = tf.keras.preprocessing.image.ImageDataGenerator(\n",
    "    rescale=1./255,\n",
    "#     shear_range=0.4,\n",
    "#     zoom_range=0.4,\n",
    "#     horizontal_flip=True,\n",
    "    validation_split=VALIDATION_SET_RATE\n",
    ")\n",
    "\n",
    "BATCH_SIZE = 32\n",
    "IMG_HEIGHT = 28\n",
    "IMG_WIDTH = 28\n",
    "IMG_CHANNELS = 3\n",
    "EPOCHS_COUNT = 20\n",
    "\n",
    "\n",
    "\n",
    "train_data_gen = image_generator.flow_from_directory(directory=str(data_root),\n",
    "                                                     batch_size=BATCH_SIZE,\n",
    "                                                     shuffle=True,\n",
    "                                                     target_size=(IMG_HEIGHT, IMG_WIDTH),\n",
    "                                                     subset='training')\n",
    "STEPS_PER_EPOCH_TRAIN = np.ceil(train_data_gen.samples/BATCH_SIZE)\n",
    "\n",
    "validation_data_gen = image_generator.flow_from_directory(directory=str(data_root),\n",
    "                                                     batch_size=BATCH_SIZE,\n",
    "                                                     shuffle=True,\n",
    "                                                     target_size=(IMG_HEIGHT, IMG_WIDTH),\n",
    "                                                     subset='validation')\n",
    "\n",
    "STEPS_PER_EPOCH_VALIDATION = np.ceil(validation_data_gen.samples/BATCH_SIZE)"
   ]
  },
  {
   "cell_type": "code",
   "execution_count": 122,
   "metadata": {},
   "outputs": [
    {
     "name": "stdout",
     "output_type": "stream",
     "text": [
      "Model: \"sequential_35\"\n",
      "_________________________________________________________________\n",
      "Layer (type)                 Output Shape              Param #   \n",
      "=================================================================\n",
      "conv2d_34 (Conv2D)           (None, 28, 28, 16)        448       \n",
      "_________________________________________________________________\n",
      "flatten_35 (Flatten)         (None, 12544)             0         \n",
      "_________________________________________________________________\n",
      "dense_70 (Dense)             (None, 128)               1605760   \n",
      "_________________________________________________________________\n",
      "dropout_37 (Dropout)         (None, 128)               0         \n",
      "_________________________________________________________________\n",
      "dense_71 (Dense)             (None, 128)               16512     \n",
      "_________________________________________________________________\n",
      "output (Dense)               (None, 10)                1290      \n",
      "=================================================================\n",
      "Total params: 1,624,010\n",
      "Trainable params: 1,624,010\n",
      "Non-trainable params: 0\n",
      "_________________________________________________________________\n",
      "WARNING:tensorflow:sample_weight modes were coerced from\n",
      "  ...\n",
      "    to  \n",
      "  ['...']\n",
      "WARNING:tensorflow:sample_weight modes were coerced from\n",
      "  ...\n",
      "    to  \n",
      "  ['...']\n",
      "Train for 557.0 steps, validate for 30.0 steps\n",
      "Epoch 1/20\n",
      "557/557 [==============================] - 6s 11ms/step - loss: 0.4702 - accuracy: 0.8605 - val_loss: 0.3942 - val_accuracy: 0.8806\n",
      "Epoch 2/20\n",
      "557/557 [==============================] - 6s 10ms/step - loss: 0.2536 - accuracy: 0.9231 - val_loss: 0.3200 - val_accuracy: 0.9000\n",
      "Epoch 3/20\n",
      "557/557 [==============================] - 6s 10ms/step - loss: 0.1879 - accuracy: 0.9428 - val_loss: 0.3027 - val_accuracy: 0.9172\n",
      "Epoch 4/20\n",
      "557/557 [==============================] - 5s 10ms/step - loss: 0.1555 - accuracy: 0.9541 - val_loss: 0.3026 - val_accuracy: 0.9161\n",
      "Epoch 5/20\n",
      "557/557 [==============================] - 5s 9ms/step - loss: 0.1383 - accuracy: 0.9581 - val_loss: 0.3057 - val_accuracy: 0.9151\n",
      "Epoch 6/20\n",
      "557/557 [==============================] - 6s 11ms/step - loss: 0.1296 - accuracy: 0.9618 - val_loss: 0.3046 - val_accuracy: 0.9161\n",
      "Epoch 7/20\n",
      "557/557 [==============================] - 7s 12ms/step - loss: 0.1258 - accuracy: 0.9621 - val_loss: 0.3064 - val_accuracy: 0.9172\n",
      "Epoch 8/20\n",
      "557/557 [==============================] - 7s 12ms/step - loss: 0.1225 - accuracy: 0.9642 - val_loss: 0.3064 - val_accuracy: 0.9183\n",
      "Epoch 9/20\n",
      "557/557 [==============================] - 7s 12ms/step - loss: 0.1219 - accuracy: 0.9647 - val_loss: 0.3069 - val_accuracy: 0.9183\n",
      "Epoch 10/20\n",
      "557/557 [==============================] - 7s 12ms/step - loss: 0.1222 - accuracy: 0.9641 - val_loss: 0.3069 - val_accuracy: 0.9183\n",
      "Epoch 11/20\n",
      "557/557 [==============================] - 9s 15ms/step - loss: 0.1208 - accuracy: 0.9653 - val_loss: 0.3070 - val_accuracy: 0.9183\n",
      "Epoch 12/20\n",
      "557/557 [==============================] - 11s 20ms/step - loss: 0.1194 - accuracy: 0.9639 - val_loss: 0.3071 - val_accuracy: 0.9183\n",
      "Epoch 13/20\n",
      "557/557 [==============================] - 11s 20ms/step - loss: 0.1202 - accuracy: 0.9643 - val_loss: 0.3071 - val_accuracy: 0.9183\n",
      "Epoch 14/20\n",
      "557/557 [==============================] - 12s 21ms/step - loss: 0.1200 - accuracy: 0.9643 - val_loss: 0.3071 - val_accuracy: 0.9183\n",
      "Epoch 15/20\n",
      "557/557 [==============================] - 11s 20ms/step - loss: 0.1208 - accuracy: 0.9642 - val_loss: 0.3071 - val_accuracy: 0.9183\n",
      "Epoch 16/20\n",
      "557/557 [==============================] - 12s 22ms/step - loss: 0.1204 - accuracy: 0.9647 - val_loss: 0.3071 - val_accuracy: 0.9183\n",
      "Epoch 17/20\n",
      "557/557 [==============================] - 11s 20ms/step - loss: 0.1206 - accuracy: 0.9634 - val_loss: 0.3071 - val_accuracy: 0.9183\n",
      "Epoch 18/20\n",
      "557/557 [==============================] - 12s 22ms/step - loss: 0.1217 - accuracy: 0.9644 - val_loss: 0.3071 - val_accuracy: 0.9183\n",
      "Epoch 19/20\n",
      "557/557 [==============================] - 12s 22ms/step - loss: 0.1208 - accuracy: 0.9652 - val_loss: 0.3071 - val_accuracy: 0.9183\n",
      "Epoch 20/20\n",
      "557/557 [==============================] - 13s 22ms/step - loss: 0.1195 - accuracy: 0.9652 - val_loss: 0.3071 - val_accuracy: 0.9183\n"
     ]
    }
   ],
   "source": [
    "model = keras.Sequential([\n",
    "        layers.Conv2D(16, kernel_size=(3, 3), padding='same', input_shape=(IMG_HEIGHT, IMG_WIDTH, IMG_CHANNELS)),\n",
    "        layers.Flatten(),\n",
    "        layers.Dense(128, activation='relu'),\n",
    "        layers.Dropout(0.1),\n",
    "        layers.Dense(128, activation='relu'),\n",
    "        layers.Dense(10, activation='softmax', name='output')\n",
    "    ])\n",
    "model.summary()\n",
    "\n",
    "cbks = [tf.keras.callbacks.LearningRateScheduler(lambda epoch: 0.1 * 0.5 ** (epoch // 1))]\n",
    "    \n",
    "# Compile model\n",
    "model.compile(optimizer='sgd',\n",
    "                  loss='categorical_crossentropy',\n",
    "                  metrics=['accuracy'])\n",
    "\n",
    "history = model.fit_generator(\n",
    "    train_data_gen,\n",
    "    validation_data=validation_data_gen,\n",
    "    steps_per_epoch=STEPS_PER_EPOCH_TRAIN,\n",
    "    validation_steps=STEPS_PER_EPOCH_VALIDATION,\n",
    "    epochs=EPOCHS_COUNT,\n",
    "    callbacks=cbks)"
   ]
  },
  {
   "cell_type": "code",
   "execution_count": 69,
   "metadata": {},
   "outputs": [
    {
     "data": {
      "image/png": "[encoded data removed]",
      "text/plain": [
       "<Figure size 432x288 with 1 Axes>"
      ]
     },
     "metadata": {
      "needs_background": "light"
     },
     "output_type": "display_data"
    },
    {
     "data": {
      "image/png": "[encoded data removed]",
      "text/plain": [
       "<Figure size 432x288 with 1 Axes>"
      ]
     },
     "metadata": {
      "needs_background": "light"
     },
     "output_type": "display_data"
    },
    {
     "data": {
      "image/png": "[encoded data removed]",
      "text/plain": [
       "<Figure size 432x288 with 1 Axes>"
      ]
     },
     "metadata": {
      "needs_background": "light"
     },
     "output_type": "display_data"
    }
   ],
   "source": [
    "# Plot training & validation accuracy values\n",
    "plt.plot(history.history['accuracy'])\n",
    "plt.plot(history.history['val_accuracy'])\n",
    "plt.title('Model accuracy')\n",
    "plt.ylabel('Accuracy')\n",
    "plt.xlabel('Epoch')\n",
    "plt.legend(['Train', 'Validation'], loc='upper left')\n",
    "plt.show()\n",
    "\n",
    "# Plot training & validation loss values\n",
    "plt.plot(history.history['loss'])\n",
    "plt.plot(history.history['val_loss'])\n",
    "plt.title('Model loss')\n",
    "plt.ylabel('Loss')\n",
    "plt.xlabel('Epoch')\n",
    "plt.legend(['Train', 'Validation'], loc='upper left')\n",
    "plt.show()\n",
    "\n",
    "plt.plot(history.history['lr'])\n",
    "plt.title('Learning rate')\n",
    "plt.ylabel('Learning rate value')\n",
    "plt.xlabel('Epoch')\n",
    "plt.show()"
   ]
  },
  {
   "cell_type": "code",
   "execution_count": 119,
   "metadata": {},
   "outputs": [],
   "source": [
    "def load_image(filename, image_size):\n",
    "    w, h = image_size\n",
    "    # load the image\n",
    "    img = load_img(filename, target_size=(w, h))\n",
    "    # convert to array\n",
    "    img = img_to_array(img)\n",
    "    # reshape into a single sample with 3 channels\n",
    "    img = img.reshape(1, w, h, 3)\n",
    "    # center pixel data\n",
    "    img = img.astype('float32')\n",
    "    return img\n",
    "\n",
    "img = load_image(str(data_root) + \"/E/QmVhY2ggVGhpbiBCb2xkLnR0Zg==.png\", (28, 28))"
   ]
  },
  {
   "cell_type": "code",
   "execution_count": 124,
   "metadata": {},
   "outputs": [
    {
     "data": {
      "text/plain": [
       "array([[0., 0., 0., 0., 1., 0., 0., 0., 0., 0.]], dtype=float32)"
      ]
     },
     "execution_count": 124,
     "metadata": {},
     "output_type": "execute_result"
    }
   ],
   "source": [
    "# lets predict E\n",
    "model.predict(img)"
   ]
  }
 ],
 "metadata": {
  "kernelspec": {
   "display_name": "Python 3",
   "language": "python",
   "name": "python3"
  },
  "language_info": {
   "codemirror_mode": {
    "name": "ipython",
    "version": 3
   },
   "file_extension": ".py",
   "mimetype": "text/x-python",
   "name": "python",
   "nbconvert_exporter": "python",
   "pygments_lexer": "ipython3",
   "version": "3.7.6"
  }
 },
 "nbformat": 4,
 "nbformat_minor": 4
}

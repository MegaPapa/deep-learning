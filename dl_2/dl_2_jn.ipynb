{
 "cells": [
  {
   "cell_type": "code",
   "execution_count": 1,
   "metadata": {},
   "outputs": [
    {
     "name": "stdout",
     "output_type": "stream",
     "text": [
      "/home/maxim/.keras/datasets/notMNIST_small\n"
     ]
    }
   ],
   "source": [
    "from __future__ import absolute_import, division, print_function, unicode_literals\n",
    "\n",
    "import tensorflow as tf\n",
    "import pathlib\n",
    "from tensorflow.keras import layers\n",
    "from tensorflow import keras\n",
    "from tensorflow.keras.optimizers import SGD\n",
    "import numpy as np\n",
    "import matplotlib.pyplot as plt\n",
    "from keras_preprocessing.image import load_img, img_to_array\n",
    "\n",
    "data_root_orig = tf.keras.utils.get_file(origin='https://commondatastorage.googleapis.com/books1000/notMNIST_small.tar.gz',\n",
    "                                         fname='notMNIST_small', untar=True)\n",
    "data_root = pathlib.Path(data_root_orig)\n",
    "print(data_root)"
   ]
  },
  {
   "cell_type": "markdown",
   "metadata": {},
   "source": [
    " Загрузим данные в память и отобразим их"
   ]
  },
  {
   "cell_type": "code",
   "execution_count": 2,
   "metadata": {},
   "outputs": [
    {
     "name": "stdout",
     "output_type": "stream",
     "text": [
      "/home/maxim/.keras/datasets/notMNIST_small/F\n",
      "/home/maxim/.keras/datasets/notMNIST_small/B\n",
      "/home/maxim/.keras/datasets/notMNIST_small/H\n",
      "/home/maxim/.keras/datasets/notMNIST_small/G\n",
      "/home/maxim/.keras/datasets/notMNIST_small/D\n",
      "/home/maxim/.keras/datasets/notMNIST_small/I\n",
      "/home/maxim/.keras/datasets/notMNIST_small/C\n",
      "/home/maxim/.keras/datasets/notMNIST_small/A\n",
      "/home/maxim/.keras/datasets/notMNIST_small/J\n",
      "/home/maxim/.keras/datasets/notMNIST_small/E\n"
     ]
    }
   ],
   "source": [
    "for letter_dir in data_root.iterdir():\n",
    "  print(letter_dir)"
   ]
  },
  {
   "cell_type": "code",
   "execution_count": 3,
   "metadata": {},
   "outputs": [
    {
     "data": {
      "text/plain": [
       "18724"
      ]
     },
     "execution_count": 3,
     "metadata": {},
     "output_type": "execute_result"
    }
   ],
   "source": [
    "import random\n",
    "all_image_paths = list(data_root.glob('*/*'))\n",
    "all_image_paths = [str(path) for path in all_image_paths]\n",
    "random.shuffle(all_image_paths)\n",
    "\n",
    "image_count = len(all_image_paths)\n",
    "image_count"
   ]
  },
  {
   "cell_type": "markdown",
   "metadata": {},
   "source": [
    "Выведем несколько случайных изображений"
   ]
  },
  {
   "cell_type": "code",
   "execution_count": 4,
   "metadata": {},
   "outputs": [
    {
     "data": {
      "image/png": "[encoded data removed]",
      "text/plain": [
       "<IPython.core.display.Image object>"
      ]
     },
     "metadata": {},
     "output_type": "display_data"
    },
    {
     "name": "stdout",
     "output_type": "stream",
     "text": [
      "/home/maxim/.keras/datasets/notMNIST_small/J/Q2l0YWRlbC1JbmxpbmUub3Rm.png\n"
     ]
    },
    {
     "data": {
      "image/png": "[encoded data removed]",
      "text/plain": [
       "<IPython.core.display.Image object>"
      ]
     },
     "metadata": {},
     "output_type": "display_data"
    },
    {
     "name": "stdout",
     "output_type": "stream",
     "text": [
      "/home/maxim/.keras/datasets/notMNIST_small/J/QmFpbGV5U2Fuc0lUQ1N0ZC1Cb2xkLm90Zg==.png\n"
     ]
    },
    {
     "data": {
      "image/png": "[encoded data removed]",
      "text/plain": [
       "<IPython.core.display.Image object>"
      ]
     },
     "metadata": {},
     "output_type": "display_data"
    },
    {
     "name": "stdout",
     "output_type": "stream",
     "text": [
      "/home/maxim/.keras/datasets/notMNIST_small/D/RWlkZXRpY01vZGVybi1JdGFsaWMub3Rm.png\n"
     ]
    },
    {
     "data": {
      "image/png": "[encoded data removed]",
      "text/plain": [
       "<IPython.core.display.Image object>"
      ]
     },
     "metadata": {},
     "output_type": "display_data"
    },
    {
     "name": "stdout",
     "output_type": "stream",
     "text": [
      "/home/maxim/.keras/datasets/notMNIST_small/H/Q29tcGFjdGFTdGQtQm9sZC5vdGY=.png\n"
     ]
    },
    {
     "data": {
      "image/png": "[encoded data removed]",
      "text/plain": [
       "<IPython.core.display.Image object>"
      ]
     },
     "metadata": {},
     "output_type": "display_data"
    },
    {
     "name": "stdout",
     "output_type": "stream",
     "text": [
      "/home/maxim/.keras/datasets/notMNIST_small/F/Rm9saW9JQ0ctTGlnaHQub3Rm.png\n"
     ]
    }
   ],
   "source": [
    "all_image_paths[:10]\n",
    "\n",
    "import IPython.display as display\n",
    "\n",
    "for n in range(5):\n",
    "  image_path = random.choice(all_image_paths)\n",
    "  display.display(display.Image(image_path))\n",
    "  print(image_path)"
   ]
  },
  {
   "cell_type": "code",
   "execution_count": 5,
   "metadata": {},
   "outputs": [
    {
     "data": {
      "text/plain": [
       "['A', 'B', 'C', 'D', 'E', 'F', 'G', 'H', 'I', 'J']"
      ]
     },
     "execution_count": 5,
     "metadata": {},
     "output_type": "execute_result"
    }
   ],
   "source": [
    "label_names = sorted(item.name for item in data_root.glob('*/') if item.is_dir())\n",
    "label_names"
   ]
  },
  {
   "cell_type": "code",
   "execution_count": 6,
   "metadata": {},
   "outputs": [
    {
     "data": {
      "text/plain": [
       "{'A': 0,\n",
       " 'B': 1,\n",
       " 'C': 2,\n",
       " 'D': 3,\n",
       " 'E': 4,\n",
       " 'F': 5,\n",
       " 'G': 6,\n",
       " 'H': 7,\n",
       " 'I': 8,\n",
       " 'J': 9}"
      ]
     },
     "execution_count": 6,
     "metadata": {},
     "output_type": "execute_result"
    }
   ],
   "source": [
    "label_to_index = dict((name, index) for index, name in enumerate(label_names))\n",
    "label_to_index"
   ]
  },
  {
   "cell_type": "code",
   "execution_count": 7,
   "metadata": {},
   "outputs": [
    {
     "name": "stdout",
     "output_type": "stream",
     "text": [
      "First 10 labels indices:  [5, 1, 1, 0, 2, 7, 2, 9, 1, 1]\n",
      "First 10 paths:  ['/home/maxim/.keras/datasets/notMNIST_small/F/Rmx5ZXIgTFQgRXh0cmEgQmxhY2sgQ29uZGVuc2VkLnR0Zg==.png', '/home/maxim/.keras/datasets/notMNIST_small/B/R2lsbFNhbnNDRS1JdGFsaWMub3Rm.png', '/home/maxim/.keras/datasets/notMNIST_small/B/QnJvYWR3YXlQLnR0Zg==.png', '/home/maxim/.keras/datasets/notMNIST_small/A/R291ZHlIZWF2eWZhY2VCVC1SZWd1bGFyQ29uZC5vdGY=.png', '/home/maxim/.keras/datasets/notMNIST_small/C/QW50aXF1YSAxMDEgQ29uZGVuc2VkIEl0YWxpYy50dGY=.png', '/home/maxim/.keras/datasets/notMNIST_small/H/Q2VudHVyeU9sZFN0eWxlU3RkLVJlZ3VsYXIub3Rm.png', '/home/maxim/.keras/datasets/notMNIST_small/C/QUdSZXZ1ZUN5ciBSb21hbiBNZWRpdW0udHRm.png', '/home/maxim/.keras/datasets/notMNIST_small/J/Qm9kb25pQmF1ZXJCUS1SZWd1bGFyLm90Zg==.png', '/home/maxim/.keras/datasets/notMNIST_small/B/RGFudGVNVFN0ZC1NZWRpdW1JdGFsaWMub3Rm.png', '/home/maxim/.keras/datasets/notMNIST_small/B/Q29lcmNpb25OYWtlZC50dGY=.png']\n"
     ]
    }
   ],
   "source": [
    "all_image_labels = [label_to_index[pathlib.Path(path).parent.name]\n",
    "                    for path in all_image_paths]\n",
    "\n",
    "print(\"First 10 labels indices: \", all_image_labels[:10])\n",
    "print(\"First 10 paths: \", all_image_paths[:10])"
   ]
  },
  {
   "cell_type": "markdown",
   "metadata": {},
   "source": [
    "Создадим flow изображений, предварительно выбрав деление на обучающую и валидационные выборки"
   ]
  },
  {
   "cell_type": "code",
   "execution_count": 8,
   "metadata": {},
   "outputs": [
    {
     "name": "stdout",
     "output_type": "stream",
     "text": [
      "Found 17794 images belonging to 10 classes.\n",
      "Found 930 images belonging to 10 classes.\n"
     ]
    }
   ],
   "source": [
    "VALIDATION_SET_RATE = 0.05\n",
    "\n",
    "# define image generators for train, validation and test set\n",
    "image_generator = tf.keras.preprocessing.image.ImageDataGenerator(\n",
    "    rescale=1./255,\n",
    "#     shear_range=0.4,\n",
    "#     zoom_range=0.4,\n",
    "#     horizontal_flip=True,\n",
    "    validation_split=VALIDATION_SET_RATE\n",
    ")\n",
    "\n",
    "BATCH_SIZE = 32\n",
    "IMG_HEIGHT = 28\n",
    "IMG_WIDTH = 28\n",
    "IMG_CHANNELS = 3\n",
    "EPOCHS_COUNT = 20\n",
    "\n",
    "\n",
    "\n",
    "train_data_gen = image_generator.flow_from_directory(directory=str(data_root),\n",
    "                                                     batch_size=BATCH_SIZE,\n",
    "                                                     shuffle=True,\n",
    "                                                     target_size=(IMG_HEIGHT, IMG_WIDTH),\n",
    "                                                     subset='training')\n",
    "STEPS_PER_EPOCH_TRAIN = np.ceil(train_data_gen.samples/BATCH_SIZE)\n",
    "\n",
    "validation_data_gen = image_generator.flow_from_directory(directory=str(data_root),\n",
    "                                                     batch_size=BATCH_SIZE,\n",
    "                                                     shuffle=True,\n",
    "                                                     target_size=(IMG_HEIGHT, IMG_WIDTH),\n",
    "                                                     subset='validation')\n",
    "\n",
    "STEPS_PER_EPOCH_VALIDATION = np.ceil(validation_data_gen.samples/BATCH_SIZE)"
   ]
  },
  {
   "cell_type": "markdown",
   "metadata": {},
   "source": [
    "Создадим модель нейронной сети представленной в виде полносвязных слоёв\n",
    "Learning rate зададим динамическим\n",
    "Для борьбы с переобучением будем использовать Dropout слой с параметром 0.1\n",
    "В качестве функции активации для полносвязных слоёв - relu"
   ]
  },
  {
   "cell_type": "code",
   "execution_count": 9,
   "metadata": {},
   "outputs": [
    {
     "name": "stdout",
     "output_type": "stream",
     "text": [
      "Model: \"sequential\"\n",
      "_________________________________________________________________\n",
      "Layer (type)                 Output Shape              Param #   \n",
      "=================================================================\n",
      "flatten (Flatten)            (None, 2352)              0         \n",
      "_________________________________________________________________\n",
      "dense (Dense)                (None, 128)               301184    \n",
      "_________________________________________________________________\n",
      "dropout (Dropout)            (None, 128)               0         \n",
      "_________________________________________________________________\n",
      "dense_1 (Dense)              (None, 128)               16512     \n",
      "_________________________________________________________________\n",
      "output (Dense)               (None, 10)                1290      \n",
      "=================================================================\n",
      "Total params: 318,986\n",
      "Trainable params: 318,986\n",
      "Non-trainable params: 0\n",
      "_________________________________________________________________\n",
      "WARNING:tensorflow:From <ipython-input-9-a4b0e3ca180f>:24: Model.fit_generator (from tensorflow.python.keras.engine.training) is deprecated and will be removed in a future version.\n",
      "Instructions for updating:\n",
      "Please use Model.fit, which supports generators.\n",
      "WARNING:tensorflow:sample_weight modes were coerced from\n",
      "  ...\n",
      "    to  \n",
      "  ['...']\n",
      "WARNING:tensorflow:sample_weight modes were coerced from\n",
      "  ...\n",
      "    to  \n",
      "  ['...']\n",
      "Train for 557.0 steps, validate for 30.0 steps\n",
      "Epoch 1/20\n",
      "557/557 [==============================] - 5s 8ms/step - loss: 1.4904 - accuracy: 0.6557 - val_loss: 0.8271 - val_accuracy: 0.7699\n",
      "Epoch 2/20\n",
      "557/557 [==============================] - 4s 8ms/step - loss: 0.6871 - accuracy: 0.8035 - val_loss: 0.5155 - val_accuracy: 0.8495\n",
      "Epoch 3/20\n",
      "557/557 [==============================] - 4s 8ms/step - loss: 0.5870 - accuracy: 0.8298 - val_loss: 0.4669 - val_accuracy: 0.8785\n",
      "Epoch 4/20\n",
      "557/557 [==============================] - 4s 8ms/step - loss: 0.5471 - accuracy: 0.8380 - val_loss: 0.4680 - val_accuracy: 0.8763\n",
      "Epoch 5/20\n",
      "557/557 [==============================] - 6s 10ms/step - loss: 0.5297 - accuracy: 0.8414 - val_loss: 0.4598 - val_accuracy: 0.8763\n",
      "Epoch 6/20\n",
      "557/557 [==============================] - 6s 10ms/step - loss: 0.5190 - accuracy: 0.8422 - val_loss: 0.4320 - val_accuracy: 0.8860\n",
      "Epoch 7/20\n",
      "557/557 [==============================] - 6s 10ms/step - loss: 0.4970 - accuracy: 0.8470 - val_loss: 0.4298 - val_accuracy: 0.8860\n",
      "Epoch 8/20\n",
      "557/557 [==============================] - 6s 10ms/step - loss: 0.4995 - accuracy: 0.8482 - val_loss: 0.4333 - val_accuracy: 0.8806\n",
      "Epoch 9/20\n",
      "557/557 [==============================] - 6s 10ms/step - loss: 0.5056 - accuracy: 0.8467 - val_loss: 0.4283 - val_accuracy: 0.8817\n",
      "Epoch 10/20\n",
      "557/557 [==============================] - 6s 10ms/step - loss: 0.4916 - accuracy: 0.8478 - val_loss: 0.4269 - val_accuracy: 0.8817\n",
      "Epoch 11/20\n",
      "557/557 [==============================] - 6s 10ms/step - loss: 0.4935 - accuracy: 0.8484 - val_loss: 0.4270 - val_accuracy: 0.8839\n",
      "Epoch 12/20\n",
      "557/557 [==============================] - 5s 10ms/step - loss: 0.4943 - accuracy: 0.8476 - val_loss: 0.4267 - val_accuracy: 0.8849\n",
      "Epoch 13/20\n",
      "557/557 [==============================] - 5s 10ms/step - loss: 0.4960 - accuracy: 0.8471 - val_loss: 0.4267 - val_accuracy: 0.8849\n",
      "Epoch 14/20\n",
      "557/557 [==============================] - 5s 10ms/step - loss: 0.4918 - accuracy: 0.8491 - val_loss: 0.4267 - val_accuracy: 0.8849\n",
      "Epoch 15/20\n",
      "557/557 [==============================] - 6s 10ms/step - loss: 0.4969 - accuracy: 0.8476 - val_loss: 0.4266 - val_accuracy: 0.8849\n",
      "Epoch 16/20\n",
      "557/557 [==============================] - 5s 10ms/step - loss: 0.4925 - accuracy: 0.8483 - val_loss: 0.4266 - val_accuracy: 0.8849\n",
      "Epoch 17/20\n",
      "557/557 [==============================] - 6s 11ms/step - loss: 0.4914 - accuracy: 0.8480 - val_loss: 0.4266 - val_accuracy: 0.8849\n",
      "Epoch 18/20\n",
      "557/557 [==============================] - 6s 11ms/step - loss: 0.4963 - accuracy: 0.8485 - val_loss: 0.4266 - val_accuracy: 0.8849\n",
      "Epoch 19/20\n",
      "557/557 [==============================] - 5s 10ms/step - loss: 0.4958 - accuracy: 0.8462 - val_loss: 0.4266 - val_accuracy: 0.8849\n",
      "Epoch 20/20\n",
      "557/557 [==============================] - 5s 10ms/step - loss: 0.4928 - accuracy: 0.8473 - val_loss: 0.4266 - val_accuracy: 0.8849\n"
     ]
    }
   ],
   "source": [
    "model = keras.Sequential([\n",
    "    layers.Input(shape=(IMG_HEIGHT, IMG_WIDTH, IMG_CHANNELS)),\n",
    "    layers.Flatten(),\n",
    "    layers.Dense(128, activation='relu'),\n",
    "    layers.Dropout(0.1),\n",
    "    layers.Dense(128, activation='relu'),\n",
    "    layers.Dense(10, activation='softmax', name='output')\n",
    "])\n",
    "model.summary()\n",
    "\n",
    "cbks = [tf.keras.callbacks.LearningRateScheduler(lambda epoch: 0.0224 * 0.5 ** (epoch // 1))]\n",
    "    \n",
    "# Compile model\n",
    "model.compile(optimizer='adam',\n",
    "                  loss='categorical_crossentropy',\n",
    "                  metrics=['accuracy'])\n",
    "\n",
    "history = model.fit_generator(\n",
    "    train_data_gen,\n",
    "    validation_data=validation_data_gen,\n",
    "    steps_per_epoch=STEPS_PER_EPOCH_TRAIN,\n",
    "    validation_steps=STEPS_PER_EPOCH_VALIDATION,\n",
    "    epochs=EPOCHS_COUNT,\n",
    "    callbacks=cbks)"
   ]
  },
  {
   "cell_type": "code",
   "execution_count": 10,
   "metadata": {},
   "outputs": [
    {
     "data": {
      "image/png": "[encoded data removed]",
      "text/plain": [
       "<Figure size 432x288 with 1 Axes>"
      ]
     },
     "metadata": {
      "needs_background": "light"
     },
     "output_type": "display_data"
    },
    {
     "data": {
      "image/png": "[encoded data removed]",
      "text/plain": [
       "<Figure size 432x288 with 1 Axes>"
      ]
     },
     "metadata": {
      "needs_background": "light"
     },
     "output_type": "display_data"
    },
    {
     "data": {
      "image/png": "[encoded data removed]",
      "text/plain": [
       "<Figure size 432x288 with 1 Axes>"
      ]
     },
     "metadata": {
      "needs_background": "light"
     },
     "output_type": "display_data"
    }
   ],
   "source": [
    "# Plot training & validation accuracy values\n",
    "plt.plot(history.history['accuracy'])\n",
    "plt.plot(history.history['val_accuracy'])\n",
    "plt.title('Model accuracy')\n",
    "plt.ylabel('Accuracy')\n",
    "plt.xlabel('Epoch')\n",
    "plt.legend(['Train', 'Validation'], loc='upper left')\n",
    "plt.show()\n",
    "\n",
    "# Plot training & validation loss values\n",
    "plt.plot(history.history['loss'])\n",
    "plt.plot(history.history['val_loss'])\n",
    "plt.title('Model loss')\n",
    "plt.ylabel('Loss')\n",
    "plt.xlabel('Epoch')\n",
    "plt.legend(['Train', 'Validation'], loc='upper left')\n",
    "plt.show()\n",
    "\n",
    "plt.plot(history.history['lr'])\n",
    "plt.title('Learning rate')\n",
    "plt.ylabel('Learning rate value')\n",
    "plt.xlabel('Epoch')\n",
    "plt.show()"
   ]
  },
  {
   "cell_type": "markdown",
   "metadata": {},
   "source": [
    "Как видно из графиков - модель обучается довольно успешно, однако есть небольшие признаки переобучения, т.к. значения на валидационной выборке меньше, чем на обучающей. Возможно лучшим значением learning rate является значение где-то в районе 0.015, т.к. после уменьшения learning rate обучение модели начало замедляться и выходить на плато."
   ]
  },
  {
   "cell_type": "code",
   "execution_count": 11,
   "metadata": {},
   "outputs": [],
   "source": [
    "def load_image(filename, image_size):\n",
    "    w, h = image_size\n",
    "    # load the image\n",
    "    img = load_img(filename, target_size=(w, h))\n",
    "    # convert to array\n",
    "    img = img_to_array(img)\n",
    "    # reshape into a single sample with 3 channels\n",
    "    img = img.reshape(1, w, h, 3)\n",
    "    # center pixel data\n",
    "    img = img.astype('float32')\n",
    "    return img\n",
    "\n",
    "img = load_image(str(data_root) + \"/E/QmVhY2ggVGhpbiBCb2xkLnR0Zg==.png\", (28, 28))"
   ]
  },
  {
   "cell_type": "markdown",
   "metadata": {},
   "source": [
    "На обученной модели можно попробовать предсказать букву, пусть это будет латинская Е."
   ]
  },
  {
   "cell_type": "code",
   "execution_count": 12,
   "metadata": {},
   "outputs": [
    {
     "data": {
      "text/plain": [
       "array([[0., 0., 0., 0., 1., 0., 0., 0., 0., 0.]], dtype=float32)"
      ]
     },
     "execution_count": 12,
     "metadata": {},
     "output_type": "execute_result"
    }
   ],
   "source": [
    "# lets predict E\n",
    "model.predict(img)"
   ]
  },
  {
   "cell_type": "markdown",
   "metadata": {},
   "source": [
    "Как видно - модель со 100% вероятностью уверена, что это буква Е, такое точное значение получено по причине того, что данное изображение находится в обучающей выборке. Однако можно отметить, что общая \"объективная\" точность модели будет в районе 85%"
   ]
  }
 ],
 "metadata": {
  "kernelspec": {
   "display_name": "Python 3",
   "language": "python",
   "name": "python3"
  },
  "language_info": {
   "codemirror_mode": {
    "name": "ipython",
    "version": 3
   },
   "file_extension": ".py",
   "mimetype": "text/x-python",
   "name": "python",
   "nbconvert_exporter": "python",
   "pygments_lexer": "ipython3",
   "version": "3.7.6"
  }
 },
 "nbformat": 4,
 "nbformat_minor": 4
}

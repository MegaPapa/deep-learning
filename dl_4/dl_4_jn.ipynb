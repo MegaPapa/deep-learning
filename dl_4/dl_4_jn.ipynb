{
 "cells": [
  {
   "cell_type": "code",
   "execution_count": 1,
   "metadata": {},
   "outputs": [],
   "source": [
    "import tensorflow as tf\n",
    "from tensorflow.keras import layers\n",
    "from tensorflow import keras\n",
    "from tensorflow.keras.optimizers import SGD\n",
    "import numpy as np\n",
    "import pathlib\n",
    "import matplotlib.pyplot as plt\n",
    "from os.path import dirname, join as pjoin\n",
    "import scipy.io as sio\n",
    "import h5py\n",
    "import hdf5storage\n",
    "import random\n",
    "from tensorflow.keras.models import model_from_json\n",
    "from tensorflow.keras.models import load_model\n",
    "from PIL import Image"
   ]
  },
  {
   "cell_type": "markdown",
   "metadata": {},
   "source": [
    "Загрузим обучающий датасет:"
   ]
  },
  {
   "cell_type": "code",
   "execution_count": 2,
   "metadata": {},
   "outputs": [
    {
     "name": "stdout",
     "output_type": "stream",
     "text": [
      "/home/maxim/.keras/datasets/train\n"
     ]
    }
   ],
   "source": [
    "housenumbers_train_orig = tf.keras.utils.get_file(\n",
    "    origin='http://ufldl.stanford.edu/housenumbers/train.tar.gz',\n",
    "    fname='train',\n",
    "    untar=True\n",
    ")\n",
    "housenumbers_train_path = pathlib.Path(housenumbers_train_orig)\n",
    "print(housenumbers_train_path)"
   ]
  },
  {
   "cell_type": "markdown",
   "metadata": {},
   "source": [
    "Загружаем тестовый датасет:"
   ]
  },
  {
   "cell_type": "code",
   "execution_count": 3,
   "metadata": {},
   "outputs": [
    {
     "name": "stdout",
     "output_type": "stream",
     "text": [
      "/home/maxim/.keras/datasets/test\n"
     ]
    }
   ],
   "source": [
    "housenumbers_test_orig = tf.keras.utils.get_file(\n",
    "    origin='http://ufldl.stanford.edu/housenumbers/test.tar.gz',\n",
    "    fname='test',\n",
    "    untar=True\n",
    ")\n",
    "housenumbers_test_path = pathlib.Path(housenumbers_test_orig)\n",
    "print(housenumbers_test_path)"
   ]
  },
  {
   "cell_type": "markdown",
   "metadata": {},
   "source": [
    "Загрузим train и test .mat файлы, которые содержат изображения номеров домов."
   ]
  },
  {
   "cell_type": "code",
   "execution_count": 4,
   "metadata": {},
   "outputs": [
    {
     "name": "stdout",
     "output_type": "stream",
     "text": [
      "/home/maxim/.keras/datasets/train_32x32\n"
     ]
    }
   ],
   "source": [
    "housenumbers_train32_orig = tf.keras.utils.get_file(\n",
    "    origin='http://ufldl.stanford.edu/housenumbers/train_32x32.mat',\n",
    "    fname='train_32x32'\n",
    ")\n",
    "housenumbers_train32_path = pathlib.Path(housenumbers_train32_orig)\n",
    "print(housenumbers_train32_path)"
   ]
  },
  {
   "cell_type": "code",
   "execution_count": 5,
   "metadata": {},
   "outputs": [
    {
     "name": "stdout",
     "output_type": "stream",
     "text": [
      "/home/maxim/.keras/datasets/test_32x32\n"
     ]
    }
   ],
   "source": [
    "housenumbers_test32_orig = tf.keras.utils.get_file(\n",
    "    origin='http://ufldl.stanford.edu/housenumbers/test_32x32.mat',\n",
    "    fname='test_32x32'\n",
    ")\n",
    "housenumbers_test32_path = pathlib.Path(housenumbers_test32_orig)\n",
    "print(housenumbers_test32_path)"
   ]
  },
  {
   "cell_type": "code",
   "execution_count": 6,
   "metadata": {},
   "outputs": [],
   "source": [
    "def show_images_grid(images_array):\n",
    "    fig = plt.figure(figsize = (20, 20))\n",
    "    number_of_images = images_array.shape[0]\n",
    "    for i in range(1, 5):\n",
    "        idx = random.randint(0, number_of_images - 1)\n",
    "        row_plot = fig.add_subplot(2,4,i)\n",
    "        row_plot.imshow(images_array[idx])\n",
    "    plt.show()\n",
    "    plt.close()"
   ]
  },
  {
   "cell_type": "markdown",
   "metadata": {},
   "source": [
    "Загрузим данные в память."
   ]
  },
  {
   "cell_type": "code",
   "execution_count": 7,
   "metadata": {},
   "outputs": [],
   "source": [
    "# with h5py.File(str(housenumbers_train_path) + '/digitStruct.mat', 'r') as f:\n",
    "#     print(f.keys())\n",
    "#     print(f['#refs#'])\n",
    "#     print(f['digitStruct']['name'][0, 0])\n",
    "train32_mat = sio.loadmat('/home/maxim/.keras/datasets/train_32x32')\n",
    "\n",
    "test32_mat = sio.loadmat('/home/maxim/.keras/datasets/test_32x32')"
   ]
  },
  {
   "cell_type": "code",
   "execution_count": 8,
   "metadata": {},
   "outputs": [],
   "source": [
    "train32_x = train32_mat['X']\n",
    "train32_y = train32_mat['y']\n",
    "\n",
    "test32_x = test32_mat['X']\n",
    "test32_y = test32_mat['y']\n",
    "\n",
    "x_train, y_train = train32_x.transpose((3,0,1,2)), train32_y[:,0]\n",
    "\n",
    "x_test, y_test = test32_x.transpose((3,0,1,2)), test32_y[:,0]"
   ]
  },
  {
   "cell_type": "code",
   "execution_count": 9,
   "metadata": {},
   "outputs": [
    {
     "name": "stdout",
     "output_type": "stream",
     "text": [
      "5\n",
      "2\n",
      "1\n",
      "10\n",
      "6\n",
      "9\n",
      "8\n",
      "3\n",
      "4\n",
      "7\n"
     ]
    }
   ],
   "source": [
    "# show random train images\n",
    "# show_images_grid(x_train)\n",
    "\n",
    "def unique(list1): \n",
    "  \n",
    "    # intilize a null list \n",
    "    unique_list = [] \n",
    "      \n",
    "    # traverse for all elements \n",
    "    for x in list1: \n",
    "        # check if exists in unique_list or not \n",
    "        if x not in unique_list: \n",
    "            unique_list.append(x) \n",
    "    # print list \n",
    "    for x in unique_list: \n",
    "        print(x)\n",
    "        \n",
    "unique(y_test)"
   ]
  },
  {
   "cell_type": "code",
   "execution_count": 10,
   "metadata": {},
   "outputs": [
    {
     "data": {
      "image/png": "[encoded data removed]",
      "text/plain": [
       "<Figure size 1440x1440 with 4 Axes>"
      ]
     },
     "metadata": {
      "needs_background": "light"
     },
     "output_type": "display_data"
    }
   ],
   "source": [
    "# show random test images\n",
    "show_images_grid(x_test)"
   ]
  },
  {
   "cell_type": "markdown",
   "metadata": {},
   "source": [
    "Отобразим несколько случайных изображений.\n",
    "\n",
    "Также определим flow изображений при помощи ImageDataGenerator, т.е. разобьём на x'ы и y'ки."
   ]
  },
  {
   "cell_type": "code",
   "execution_count": 11,
   "metadata": {},
   "outputs": [
    {
     "name": "stdout",
     "output_type": "stream",
     "text": [
      "70000\n",
      "3255\n",
      "70000\n",
      "3255\n"
     ]
    }
   ],
   "source": [
    "VALIDATION_SET_RATE = 0.05\n",
    "\n",
    "# define image generators for train, validation and test set\n",
    "image_generator = tf.keras.preprocessing.image.ImageDataGenerator(\n",
    "    rescale=1./255,\n",
    "    validation_split=VALIDATION_SET_RATE\n",
    ")\n",
    "\n",
    "validation_image_generator = tf.keras.preprocessing.image.ImageDataGenerator(\n",
    "    rescale=1./255,\n",
    "    validation_split=VALIDATION_SET_RATE\n",
    ")\n",
    "\n",
    "test_image_generator = tf.keras.preprocessing.image.ImageDataGenerator(\n",
    "    rescale=1./255,\n",
    "    validation_split=VALIDATION_SET_RATE\n",
    ")\n",
    "\n",
    "BATCH_SIZE = 32\n",
    "IMG_HEIGHT = 32\n",
    "IMG_WIDTH = 32\n",
    "IMG_CHANNELS = 3\n",
    "EPOCHS_COUNT = 5\n",
    "\n",
    "num_classes = 10 # (0-9)\n",
    "\n",
    "# + 1 here is because in labels we have 10 as different class, idk why\n",
    "y_train = tf.keras.utils.to_categorical(y_train, num_classes + 1)\n",
    "y_test = tf.keras.utils.to_categorical(y_test, num_classes + 1)\n",
    "\n",
    "\n",
    "x_validation = x_train[70001 : len(x_train)-1]\n",
    "x_train = x_train[0:70000]\n",
    "\n",
    "y_validation = y_train[70001 : len(y_train)-1]\n",
    "y_train = y_train[0:70000]\n",
    "\n",
    "\n",
    "print(len(x_train))\n",
    "print(len(x_validation))\n",
    "\n",
    "print(len(y_train))\n",
    "print(len(y_validation))\n",
    "\n",
    "\n",
    "STEPS_PER_EPOCH = np.ceil(len(x_train)/BATCH_SIZE)\n",
    "STEPS_PER_EPOCH_VALIDATION = np.ceil(len(x_validation)/BATCH_SIZE)\n",
    "\n",
    "image_generator.fit(x_train)\n",
    "validation_image_generator.fit(x_validation)\n",
    "test_image_generator.fit(x_test)"
   ]
  },
  {
   "cell_type": "markdown",
   "metadata": {},
   "source": [
    "Определим модель с 2мя свёрточными слоями и 2мя полносвязными."
   ]
  },
  {
   "cell_type": "code",
   "execution_count": 12,
   "metadata": {},
   "outputs": [
    {
     "name": "stdout",
     "output_type": "stream",
     "text": [
      "Model: \"sequential\"\n",
      "_________________________________________________________________\n",
      "Layer (type)                 Output Shape              Param #   \n",
      "=================================================================\n",
      "conv_1 (Conv2D)              (None, 32, 32, 16)        448       \n",
      "_________________________________________________________________\n",
      "conv_2 (Conv2D)              (None, 32, 32, 40)        5800      \n",
      "_________________________________________________________________\n",
      "flatten (Flatten)            (None, 40960)             0         \n",
      "_________________________________________________________________\n",
      "fc_1 (Dense)                 (None, 128)               5243008   \n",
      "_________________________________________________________________\n",
      "output (Dense)               (None, 11)                1419      \n",
      "=================================================================\n",
      "Total params: 5,250,675\n",
      "Trainable params: 5,250,675\n",
      "Non-trainable params: 0\n",
      "_________________________________________________________________\n"
     ]
    }
   ],
   "source": [
    "# Define 1 input 2 conv and 1 fc layer with softmax output\n",
    "input_layer = layers.Input(\n",
    "    shape=(IMG_HEIGHT, IMG_WIDTH, IMG_CHANNELS),\n",
    "    name='input'\n",
    ")\n",
    "\n",
    "conv_1 = layers.Conv2D(\n",
    "    filters=16,\n",
    "    kernel_size=(3, 3),\n",
    "    strides=(1,1),\n",
    "    padding='same',\n",
    "    activation='relu',\n",
    "    name='conv_1'\n",
    ")\n",
    "\n",
    "conv_2 = layers.Conv2D(\n",
    "    filters=40,\n",
    "    kernel_size=(3, 3),\n",
    "    strides=(1,1),\n",
    "    padding='same',\n",
    "    activation='relu',\n",
    "    name='conv_2'\n",
    ")\n",
    "\n",
    "fc_1 = layers.Dense(128, activation='relu', name='fc_1')\n",
    "out = layers.Dense(11, activation='softmax', name='output')\n",
    "\n",
    "two_conv_model = keras.Sequential([\n",
    "    input_layer,\n",
    "    conv_1,\n",
    "    conv_2,\n",
    "    layers.Flatten(),\n",
    "    fc_1,\n",
    "    out\n",
    "])\n",
    "two_conv_model.summary()\n",
    "\n",
    "# compile the model\n",
    "two_conv_model.compile(\n",
    "    optimizer='sgd',\n",
    "    loss='categorical_crossentropy',\n",
    "    metrics=['accuracy']\n",
    ")"
   ]
  },
  {
   "cell_type": "markdown",
   "metadata": {},
   "source": [
    "Запустим модель с обучающими и валидационными данными."
   ]
  },
  {
   "cell_type": "code",
   "execution_count": 13,
   "metadata": {},
   "outputs": [
    {
     "name": "stdout",
     "output_type": "stream",
     "text": [
      "WARNING:tensorflow:From <ipython-input-13-77f14b84678b>:6: Model.fit_generator (from tensorflow.python.keras.engine.training) is deprecated and will be removed in a future version.\n",
      "Instructions for updating:\n",
      "Please use Model.fit, which supports generators.\n",
      "WARNING:tensorflow:sample_weight modes were coerced from\n",
      "  ...\n",
      "    to  \n",
      "  ['...']\n",
      "WARNING:tensorflow:sample_weight modes were coerced from\n",
      "  ...\n",
      "    to  \n",
      "  ['...']\n",
      "Train for 2188.0 steps, validate for 102.0 steps\n",
      "Epoch 1/5\n",
      "2188/2188 [==============================] - 99s 45ms/step - loss: 1.9605 - accuracy: 0.3106 - val_loss: 1.2260 - val_accuracy: 0.6129\n",
      "Epoch 2/5\n",
      "2188/2188 [==============================] - 100s 46ms/step - loss: 0.9203 - accuracy: 0.7205 - val_loss: 0.7860 - val_accuracy: 0.7591\n",
      "Epoch 3/5\n",
      "2188/2188 [==============================] - 100s 46ms/step - loss: 0.6711 - accuracy: 0.8004 - val_loss: 0.6457 - val_accuracy: 0.8068\n",
      "Epoch 4/5\n",
      "2188/2188 [==============================] - 99s 45ms/step - loss: 0.5472 - accuracy: 0.8384 - val_loss: 0.5484 - val_accuracy: 0.8363\n",
      "Epoch 5/5\n",
      "2188/2188 [==============================] - 102s 47ms/step - loss: 0.4702 - accuracy: 0.8626 - val_loss: 0.5005 - val_accuracy: 0.8516\n"
     ]
    }
   ],
   "source": [
    "history = two_conv_model.fit_generator(\n",
    "   image_generator.flow(x_train, y_train),\n",
    "    validation_data=validation_image_generator.flow(x_validation, y_validation),\n",
    "    steps_per_epoch=STEPS_PER_EPOCH,\n",
    "    validation_steps=STEPS_PER_EPOCH_VALIDATION,\n",
    "    epochs=EPOCHS_COUNT\n",
    ")"
   ]
  },
  {
   "cell_type": "code",
   "execution_count": 14,
   "metadata": {},
   "outputs": [
    {
     "name": "stdout",
     "output_type": "stream",
     "text": [
      "WARNING:tensorflow:sample_weight modes were coerced from\n",
      "  ...\n",
      "    to  \n",
      "  ['...']\n",
      "814/814 [==============================] - 11s 13ms/step - loss: 0.5910 - accuracy: 0.8348\n"
     ]
    }
   ],
   "source": [
    "# x_test[0]\n",
    "test_history = two_conv_model.evaluate(test_image_generator.flow(x_test, y_test))"
   ]
  },
  {
   "cell_type": "markdown",
   "metadata": {},
   "source": [
    "После проверки видно, что модель имеет 83%-тную точность."
   ]
  },
  {
   "cell_type": "code",
   "execution_count": 15,
   "metadata": {},
   "outputs": [],
   "source": [
    "def save_model_to_file(model):\n",
    "    model_json = model.to_json()\n",
    "    with open(\"model.json\", \"w\") as json_file:\n",
    "        json_file.write(model_json)\n",
    "    # serialize weights to HDF5\n",
    "    model.save_weights(\"model.h5\")\n",
    "    \n",
    "def load_model_from_file():\n",
    "    json_file = open('model.json', 'r')\n",
    "    loaded_model_json = json_file.read()\n",
    "    json_file.close()\n",
    "    loaded_model = model_from_json(loaded_model_json)\n",
    "    # load weights into new model\n",
    "    return loaded_model.load_weights(\"model.h5\")"
   ]
  },
  {
   "cell_type": "code",
   "execution_count": 16,
   "metadata": {},
   "outputs": [],
   "source": [
    "two_conv_model.save('model.h5')"
   ]
  },
  {
   "cell_type": "markdown",
   "metadata": {},
   "source": [
    "Сохраним модель для её дальнейшего исполнения в telegram-боте."
   ]
  },
  {
   "cell_type": "code",
   "execution_count": 17,
   "metadata": {},
   "outputs": [],
   "source": [
    "# loaded_model = load_model('model.h5')\n",
    "# loaded_model.summary()"
   ]
  },
  {
   "cell_type": "code",
   "execution_count": 18,
   "metadata": {},
   "outputs": [],
   "source": [
    "# img = Image.fromarray(x_train[750], 'RGB')\n",
    "# img.save('my.png')\n",
    "\n",
    "# def load_image_into_numpy( infilename ) :\n",
    "#     img = Image.open( infilename )\n",
    "#     img.load()\n",
    "#     data = np.asarray( img, dtype=\"float64\" )\n",
    "#     return data\n",
    "\n",
    "# my_img = load_image_into_numpy('output_photo.jpg')\n",
    "# i = np.expand_dims(my_img, 0)\n",
    "# # i.shape\n",
    "# # my_img.reshape((None, 32, 32, 3))\n",
    "# # my_img.shape\n",
    "\n",
    "# # # define image generators for train, validation and test set\n",
    "# image_generator = tf.keras.preprocessing.image.ImageDataGenerator(\n",
    "#     rescale=1./255\n",
    "# )\n",
    "# # x = image_generator.standardize(my_img)\n",
    "# # image_generator.fit(x, target_size=(32, 32, 3))\n",
    "# # image_generator.apply_transform(my_img)\n",
    "\n",
    "# predicted = loaded_model.predict(image_generator.flow(i))\n",
    "# print(predicted.argmax())\n",
    "# print(predicted.max())"
   ]
  }
 ],
 "metadata": {
  "kernelspec": {
   "display_name": "Python 3",
   "language": "python",
   "name": "python3"
  },
  "language_info": {
   "codemirror_mode": {
    "name": "ipython",
    "version": 3
   },
   "file_extension": ".py",
   "mimetype": "text/x-python",
   "name": "python",
   "nbconvert_exporter": "python",
   "pygments_lexer": "ipython3",
   "version": "3.7.6"
  }
 },
 "nbformat": 4,
 "nbformat_minor": 4
}
